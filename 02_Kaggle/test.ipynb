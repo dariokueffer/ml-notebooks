{
 "cells": [
  {
   "cell_type": "code",
   "execution_count": 1,
   "metadata": {},
   "outputs": [
    {
     "data": {
      "application/vnd.jupyter.widget-view+json": {
       "model_id": "79295378240841c295b3266cf6b7c0d4",
       "version_major": 2,
       "version_minor": 0
      },
      "text/plain": [
       "Downloading shards:   0%|          | 0/4 [00:00<?, ?it/s]"
      ]
     },
     "metadata": {},
     "output_type": "display_data"
    },
    {
     "data": {
      "application/vnd.jupyter.widget-view+json": {
       "model_id": "dd9dc248fcf74a3c8fba0d9cb8b4b3f1",
       "version_major": 2,
       "version_minor": 0
      },
      "text/plain": [
       "model-00001-of-00004.safetensors:  56%|#####5    | 2.73G/4.88G [00:00<?, ?B/s]"
      ]
     },
     "metadata": {},
     "output_type": "display_data"
    },
    {
     "data": {
      "application/vnd.jupyter.widget-view+json": {
       "model_id": "3ea1da3f24944a14a04b9e539805c1f1",
       "version_major": 2,
       "version_minor": 0
      },
      "text/plain": [
       "model-00002-of-00004.safetensors:   0%|          | 0.00/4.93G [00:00<?, ?B/s]"
      ]
     },
     "metadata": {},
     "output_type": "display_data"
    },
    {
     "data": {
      "application/vnd.jupyter.widget-view+json": {
       "model_id": "5484a66276114cf488d3430e857b43d8",
       "version_major": 2,
       "version_minor": 0
      },
      "text/plain": [
       "model-00003-of-00004.safetensors:   0%|          | 0.00/4.33G [00:00<?, ?B/s]"
      ]
     },
     "metadata": {},
     "output_type": "display_data"
    },
    {
     "data": {
      "application/vnd.jupyter.widget-view+json": {
       "model_id": "1353b56013114747a3085ee885f4b627",
       "version_major": 2,
       "version_minor": 0
      },
      "text/plain": [
       "model-00004-of-00004.safetensors:   0%|          | 0.00/1.09G [00:00<?, ?B/s]"
      ]
     },
     "metadata": {},
     "output_type": "display_data"
    },
    {
     "name": "stderr",
     "output_type": "stream",
     "text": [
      "Sliding Window Attention is enabled but not implemented for `sdpa`; unexpected results may be encountered.\n"
     ]
    },
    {
     "data": {
      "application/vnd.jupyter.widget-view+json": {
       "model_id": "9947d87c87604b45aeeae230700ed659",
       "version_major": 2,
       "version_minor": 0
      },
      "text/plain": [
       "Loading checkpoint shards:   0%|          | 0/4 [00:00<?, ?it/s]"
      ]
     },
     "metadata": {},
     "output_type": "display_data"
    },
    {
     "data": {
      "application/vnd.jupyter.widget-view+json": {
       "model_id": "4f45f3268ebd4b5a944a19694e7cb0cd",
       "version_major": 2,
       "version_minor": 0
      },
      "text/plain": [
       "generation_config.json:   0%|          | 0.00/138 [00:00<?, ?B/s]"
      ]
     },
     "metadata": {},
     "output_type": "display_data"
    },
    {
     "name": "stderr",
     "output_type": "stream",
     "text": [
      "Setting `pad_token_id` to `eos_token_id`:151643 for open-end generation.\n"
     ]
    }
   ],
   "source": [
    "from transformers import AutoModelForCausalLM, AutoTokenizer\n",
    "\n",
    "model_name = \"nvidia/AceMath-7B-Instruct\"\n",
    "tokenizer = AutoTokenizer.from_pretrained(model_name)\n",
    "model = AutoModelForCausalLM.from_pretrained(model_name, torch_dtype=\"auto\", device_map=\"auto\")\n",
    "\n",
    "prompt = \"Jen enters a lottery by picking $4$ distinct numbers from $S=\\\\{1,2,3,\\\\cdots,9,10\\\\}.$ $4$ numbers are randomly chosen from $S.$ She wins a prize if at least two of her numbers were $2$ of the randomly chosen numbers, and wins the grand prize if all four of her numbers were the randomly chosen numbers. The probability of her winning the grand prize given that she won a prize is $\\\\tfrac{m}{n}$ where $m$ and $n$ are relatively prime positive integers. Find $m+n$.\"\n",
    "messages = [{\"role\": \"user\", \"content\": prompt}]\n",
    "\n",
    "text = tokenizer.apply_chat_template(\n",
    "    messages,\n",
    "    tokenize=False,\n",
    "    add_generation_prompt=True\n",
    ")\n",
    "model_inputs = tokenizer([text], return_tensors=\"pt\").to(\"mps\")\n",
    "\n",
    "generated_ids = model.generate(\n",
    "    **model_inputs,\n",
    "    max_new_tokens=2048\n",
    ")\n",
    "generated_ids = [\n",
    "    output_ids[len(input_ids):] for input_ids, output_ids in zip(model_inputs.input_ids, generated_ids)\n",
    "]\n",
    "\n",
    "response = tokenizer.batch_decode(generated_ids, skip_special_tokens=True)[0]\n"
   ]
  },
  {
   "cell_type": "code",
   "execution_count": 6,
   "metadata": {},
   "outputs": [
    {
     "name": "stderr",
     "output_type": "stream",
     "text": [
      "Setting `pad_token_id` to `eos_token_id`:151643 for open-end generation.\n"
     ]
    }
   ],
   "source": [
    "\n",
    "prompt = \"Jen enters a lottery by picking $4$ distinct numbers from $S=\\\\{1,2,3,\\\\cdots,9,10\\\\}.$ $4$ numbers are randomly chosen from $S.$ She wins a prize if at least two of her numbers were $2$ of the randomly chosen numbers, and wins the grand prize if all four of her numbers were the randomly chosen numbers. The probability of her winning the grand prize given that she won a prize is $\\\\tfrac{m}{n}$ where $m$ and $n$ are relatively prime positive integers. Find $m+n$.\"\n",
    "prompt = \"Fred and George take part in a tennis tournament with 4046 other players. In each round, the players are paired into 2024 matches. How many ways are there to arrange the first round such that Fred and George do not have to play each other? (Two arrangements for the first round are different if there is a player with a different opponent in the two arrangements.)\"\n",
    "prompt = \"The Fibonacci numbers are defined as follows: F0 = 0, F1 = 1, and Fn+1 = Fn + Fn−1 for n ≥1. There are N positive integers n strictly less than 10101 such that n2 + (n + 1)2 is a multiple of 5 but F 2 n−1 + F 2 n is not. How many prime factors does N have, counted with multiplicity?\"\n",
    "messages = [{\"role\": \"user\", \"content\": prompt}]\n",
    "\n",
    "text = tokenizer.apply_chat_template(\n",
    "    messages,\n",
    "    tokenize=False,\n",
    "    add_generation_prompt=True\n",
    ")\n",
    "model_inputs = tokenizer([text], return_tensors=\"pt\").to(\"mps\")\n",
    "\n",
    "generated_ids = model.generate(\n",
    "    **model_inputs,\n",
    "    max_new_tokens=2048\n",
    ")\n",
    "generated_ids = [\n",
    "    output_ids[len(input_ids):] for input_ids, output_ids in zip(model_inputs.input_ids, generated_ids)\n",
    "]\n",
    "\n",
    "response = tokenizer.batch_decode(generated_ids, skip_special_tokens=True)[0]"
   ]
  },
  {
   "cell_type": "code",
   "execution_count": 7,
   "metadata": {},
   "outputs": [
    {
     "name": "stdout",
     "output_type": "stream",
     "text": [
      "To solve the problem, we need to analyze the conditions given and determine how many positive integers \\( n \\) less than \\( 10^{101} \\) satisfy both conditions: \\( n^2 + (n+1)^2 \\) is a multiple of 5, and \\( F_{2n-1}^2 + F_{2n}^2 \\) is not a multiple of 5.\n",
      "\n",
      "First, let's consider the condition \\( n^2 + (n+1)^2 \\equiv 0 \\pmod{5} \\). Expanding and simplifying, we get:\n",
      "\\[\n",
      "n^2 + n^2 + 2n + 1 \\equiv 2n^2 + 2n + 1 \\equiv 0 \\pmod{5} \\implies 2n^2 + 2n + 1 \\equiv 0 \\pmod{5} \\implies n^2 + n + 3 \\equiv 0 \\pmod{5}.\n",
      "\\]\n",
      "We can test each residue modulo 5 to find the solutions:\n",
      "- If \\( n \\equiv 0 \\pmod{5} \\), then \\( n^2 + n + 3 \\equiv 3 \\pmod{5} \\).\n",
      "- If \\( n \\equiv 1 \\pmod{5} \\), then \\( n^2 + n + 3 \\equiv 5 \\equiv 0 \\pmod{5} \\).\n",
      "- If \\( n \\equiv 2 \\pmod{5} \\), then \\( n^2 + n + 3 \\equiv 4 + 2 + 3 \\equiv 9 \\equiv 4 \\pmod{5} \\).\n",
      "- If \\( n \\equiv 3 \\pmod{5} \\), then \\( n^2 + n + 3 \\equiv 9 + 3 + 3 \\equiv 15 \\equiv 0 \\pmod{5} \\).\n",
      "- If \\( n \\equiv 4 \\pmod{5} \\), then \\( n^2 + n + 3 \\equiv 16 + 4 + 3 \\equiv 23 \\equiv 3 \\pmod{5} \\).\n",
      "\n",
      "Thus, the solutions are \\( n \\equiv 1 \\pmod{5} \\) and \\( n \\equiv 3 \\pmod{5} \\). Therefore, half of the residues modulo 5 satisfy the condition, so \\( n \\) must be of the form \\( 5k + 1 \\) or \\( 5k + 3 \\) for some integer \\( k \\).\n",
      "\n",
      "Next, we consider the condition \\( F_{2n-1}^2 + F_{2n}^2 \\not\\equiv 0 \\pmod{5} \\). We need to find the residues of \\( F_{2n-1} \\) and \\( F_{2n} \\) modulo 5. The Fibonacci sequence modulo 5 is periodic with a period of 20:\n",
      "\\[\n",
      "0, 1, 1, 2, 3, 0, 3, 3, 1, 4, 0, 4, 4, 3, 2, 0, 2, 2, 4, 1, 0, 1, 1, 2, 3, 0, \\ldots\n",
      "\\]\n",
      "We need to check the values of \\( F_{2n-1}^2 + F_{2n}^2 \\) for \\( n \\equiv 1 \\pmod{5} \\) and \\( n \\equiv 3 \\pmod{5} \\):\n",
      "- If \\( n \\equiv 1 \\pmod{5} \\), then \\( 2n-1 \\equiv 1 \\pmod{20} \\) and \\( 2n \\equiv 2 \\pmod{20} \\), so \\( F_{2n-1} \\equiv 1 \\pmod{5} \\) and \\( F_{2n} \\equiv 1 \\pmod{5} \\), and \\( F_{2n-1}^2 + F_{2n}^2 \\equiv 1^2 + 1^2 \\equiv 2 \\pmod{5} \\).\n",
      "- If \\( n \\equiv 3 \\pmod{5} \\), then \\( 2n-1 \\equiv 5 \\equiv 5 \\pmod{20} \\) and \\( 2n \\equiv 66 \\equiv 66 \\pmod{20} \\), so \\( F_{2n-1} \\equiv 5 \\pmod{5} \\) and \\( F_{2n} \\equiv 6 \\pmod{5} \\), and \\( F_{2n-1}^2 + F_{2n}^2 \\equiv 5^2 + 6^2 \\equiv 25 + 36 \\equiv 66 \\equiv 2 \\pmod{5} \\).\n",
      "\n",
      "Thus, \\( F_{2n-1}^2 + F_{2n}^2 \\not\\equiv 0 \\pmod{5} \\) for both \\( n \\equiv 1 \\pmod{5} \\) and \\( n \\equiv 3 \\pmod{5} \\). Therefore, all \\( n \\) of the form \\( 5k + 1 \\) or \\( 5k + 3 \\) satisfy both conditions.\n",
      "\n",
      "The number of such \\( n \\) less than \\( 10^{101} \\) is:\n",
      "\\[\n",
      "2 \\left\\lfloor \\frac{10^{101}}{5} \\right\\rfloor + 2 = 2 \\left( \\frac{10^{101} - 1}{5} \\right) + 2 = 2 \\left( \\frac{10^{101} - 1}{5} \\right) + 2 = 2 \\left( \\frac{10^{101} - 1}{5} \\right) + 2 = 2 \\left( \\frac{10^{101} - 1}{5} \\right) + 2 = 2 \\left( \\frac{10^{101} - 1}{5} \\right) + 2 = 2 \\left( \\frac{10^{101} - 1}{5} \\right) + 2 = 2 \\left( \\frac{10^{101} - 1}{5} \\right) + 2 = 2 \\left( \\frac{10^{101} - 1}{5} \\right) + 2 = 2 \\left( \\frac{10^{101} - 1}{5} \\right) + 2 = 2 \\left( \\frac{10^{101} - 1}{5} \\right) + 2 = 2 \\left( \\frac{10^{101} - 1}{5} \\right) + 2 = 2 \\left( \\frac{10^{101} - 1}{5} \\right) + 2 = 2 \\left( \\frac{10^{101} - 1}{5} \\right) + 2 = 2 \\left( \\frac{10^{101} - 1}{5} \\right) + 2 = 2 \\left( \\frac{10^{101} - 1}{5} \\right) + 2 = 2 \\left( \\frac{10^{101} - 1}{5} \\right) + 2 = 2 \\left( \\frac{10^{101} - 1}{5} \\right) + 2 = 2 \\left( \\frac{10^{101} - 1}{5} \\right) + 2 = 2 \\left( \\frac{10^{101} - 1}{5} \\right) + 2 = 2 \\left( \\frac{10^{101} - 1}{5} \\right) + 2 = 2 \\left( \\frac{10^{101} - 1}{5} \\right) + 2 = 2 \\left( \\frac{10^{101} - 1}{5} \\right) + + 2 = 2 \\left( \\frac{10^{101} - 1}{5} \\right) + 2 = 2 \\left( \\frac{10^{101} - 1}{5} \\right) + 2 = 2 \\left( \\frac{10^{101} - 1}{5} \\right) + 2 = 2 \\left( \\frac{10^{101} - 1}{5} \\right) + 2 = 2 \\left( \\frac{10^{101} - 1}{5} \\right) + 2 = 2 \\left( \\frac{10^{101} - 1}{5} \\right) + 2 = 2 \\left( \\frac{10^{101} - 1}{5} \\right) + 2 = 2 \\left( \\frac{10^{1\n"
     ]
    }
   ],
   "source": [
    "print(response)"
   ]
  }
 ],
 "metadata": {
  "kernelspec": {
   "display_name": "huggingface",
   "language": "python",
   "name": "python3"
  },
  "language_info": {
   "codemirror_mode": {
    "name": "ipython",
    "version": 3
   },
   "file_extension": ".py",
   "mimetype": "text/x-python",
   "name": "python",
   "nbconvert_exporter": "python",
   "pygments_lexer": "ipython3",
   "version": "3.9.21"
  }
 },
 "nbformat": 4,
 "nbformat_minor": 2
}
